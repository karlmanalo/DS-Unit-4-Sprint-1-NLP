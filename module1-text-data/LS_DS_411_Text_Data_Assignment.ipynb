{
 "cells": [
  {
   "cell_type": "markdown",
   "metadata": {},
   "source": [
    "<img align=\"left\" src=\"https://lever-client-logos.s3.amazonaws.com/864372b1-534c-480e-acd5-9711f850815c-1524247202159.png\" width=200>\n",
    "<br></br>\n",
    "<br></br>\n",
    "\n",
    "# Natural Language Processing (NLP)\n",
    "## *Data Science Unit 4 Sprint 1 Assignment 1*\n",
    "\n",
    "Your goal in this assignment: find the attributes of the best & worst coffee shops in the dataset. The text is fairly raw: dates in the review, extra words in the `star_rating` column, etc. You'll probably want to clean that stuff up for a better analysis. \n",
    "\n",
    "Analyze the corpus of text using text visualizations of token frequency. Try cleaning the data as much as possible. Try the following techniques: \n",
    "- Lemmatization\n",
    "- Custom stopword removal\n",
    "\n",
    "Keep in mind the attributes of good tokens. Once you have a solid baseline, layer in the star rating in your visualization(s). Key part of this assignment - produce a write-up of the attributes of the best and worst coffee shops. Based on your analysis, what makes the best the best and the worst the worst. Use graphs and numbesr from your analysis to support your conclusions. There should be plenty of markdown cells! :coffee:"
   ]
  },
  {
   "cell_type": "code",
   "execution_count": 1,
   "metadata": {},
   "outputs": [
    {
     "data": {
      "image/jpeg": "[encoded data removed]",
      "text/html": [
       "\n",
       "        <iframe\n",
       "            width=\"400\"\n",
       "            height=\"300\"\n",
       "            src=\"https://www.youtube.com/embed/Jml7NVYm8cs\"\n",
       "            frameborder=\"0\"\n",
       "            allowfullscreen\n",
       "        ></iframe>\n",
       "        "
      ],
      "text/plain": [
       "<IPython.lib.display.YouTubeVideo at 0x1c89f584898>"
      ]
     },
     "execution_count": 1,
     "metadata": {},
     "output_type": "execute_result"
    }
   ],
   "source": [
    "from IPython.display import YouTubeVideo\n",
    "\n",
    "YouTubeVideo('Jml7NVYm8cs')"
   ]
  },
  {
   "cell_type": "code",
   "execution_count": 2,
   "metadata": {},
   "outputs": [
    {
     "data": {
      "text/plain": [
       "'C:\\\\Users\\\\Karl\\\\Documents\\\\lambda\\\\u4s1\\\\DS-Unit-4-Sprint-1-NLP\\\\module1-text-data'"
      ]
     },
     "execution_count": 2,
     "metadata": {},
     "output_type": "execute_result"
    }
   ],
   "source": [
    "%pwd"
   ]
  },
  {
   "cell_type": "code",
   "execution_count": 3,
   "metadata": {},
   "outputs": [
    {
     "data": {
      "text/html": [
       "<div>\n",
       "<style scoped>\n",
       "    .dataframe tbody tr th:only-of-type {\n",
       "        vertical-align: middle;\n",
       "    }\n",
       "\n",
       "    .dataframe tbody tr th {\n",
       "        vertical-align: top;\n",
       "    }\n",
       "\n",
       "    .dataframe thead th {\n",
       "        text-align: right;\n",
       "    }\n",
       "</style>\n",
       "<table border=\"1\" class=\"dataframe\">\n",
       "  <thead>\n",
       "    <tr style=\"text-align: right;\">\n",
       "      <th></th>\n",
       "      <th>coffee_shop_name</th>\n",
       "      <th>full_review_text</th>\n",
       "      <th>star_rating</th>\n",
       "    </tr>\n",
       "  </thead>\n",
       "  <tbody>\n",
       "    <tr>\n",
       "      <th>0</th>\n",
       "      <td>The Factory - Cafe With a Soul</td>\n",
       "      <td>11/25/2016 1 check-in Love love loved the atm...</td>\n",
       "      <td>5.0 star rating</td>\n",
       "    </tr>\n",
       "    <tr>\n",
       "      <th>1</th>\n",
       "      <td>The Factory - Cafe With a Soul</td>\n",
       "      <td>12/2/2016 Listed in Date Night: Austin, Ambia...</td>\n",
       "      <td>4.0 star rating</td>\n",
       "    </tr>\n",
       "    <tr>\n",
       "      <th>2</th>\n",
       "      <td>The Factory - Cafe With a Soul</td>\n",
       "      <td>11/30/2016 1 check-in Listed in Brunch Spots ...</td>\n",
       "      <td>4.0 star rating</td>\n",
       "    </tr>\n",
       "    <tr>\n",
       "      <th>3</th>\n",
       "      <td>The Factory - Cafe With a Soul</td>\n",
       "      <td>11/25/2016 Very cool decor! Good drinks Nice ...</td>\n",
       "      <td>2.0 star rating</td>\n",
       "    </tr>\n",
       "    <tr>\n",
       "      <th>4</th>\n",
       "      <td>The Factory - Cafe With a Soul</td>\n",
       "      <td>12/3/2016 1 check-in They are located within ...</td>\n",
       "      <td>4.0 star rating</td>\n",
       "    </tr>\n",
       "  </tbody>\n",
       "</table>\n",
       "</div>"
      ],
      "text/plain": [
       "                  coffee_shop_name  \\\n",
       "0  The Factory - Cafe With a Soul    \n",
       "1  The Factory - Cafe With a Soul    \n",
       "2  The Factory - Cafe With a Soul    \n",
       "3  The Factory - Cafe With a Soul    \n",
       "4  The Factory - Cafe With a Soul    \n",
       "\n",
       "                                    full_review_text        star_rating  \n",
       "0   11/25/2016 1 check-in Love love loved the atm...   5.0 star rating   \n",
       "1   12/2/2016 Listed in Date Night: Austin, Ambia...   4.0 star rating   \n",
       "2   11/30/2016 1 check-in Listed in Brunch Spots ...   4.0 star rating   \n",
       "3   11/25/2016 Very cool decor! Good drinks Nice ...   2.0 star rating   \n",
       "4   12/3/2016 1 check-in They are located within ...   4.0 star rating   "
      ]
     },
     "execution_count": 3,
     "metadata": {},
     "output_type": "execute_result"
    }
   ],
   "source": [
    "import pandas as pd\n",
    "\n",
    "url = \"https://raw.githubusercontent.com/LambdaSchool/DS-Unit-4-Sprint-1-NLP/master/module1-text-data/data/yelp_coffeeshop_review_data.csv\"\n",
    "\n",
    "shops = pd.read_csv(url)\n",
    "shops.head()"
   ]
  },
  {
   "cell_type": "code",
   "execution_count": 4,
   "metadata": {},
   "outputs": [],
   "source": [
    "# Start here "
   ]
  },
  {
   "cell_type": "code",
   "execution_count": 5,
   "metadata": {},
   "outputs": [
    {
     "data": {
      "text/plain": [
       "(7616, 3)"
      ]
     },
     "execution_count": 5,
     "metadata": {},
     "output_type": "execute_result"
    }
   ],
   "source": [
    "# Checking shape of df\n",
    "\n",
    "shops.shape"
   ]
  },
  {
   "cell_type": "code",
   "execution_count": 6,
   "metadata": {},
   "outputs": [
    {
     "data": {
      "text/plain": [
       " 5.0 star rating     3780\n",
       " 4.0 star rating     2360\n",
       " 3.0 star rating      738\n",
       " 2.0 star rating      460\n",
       " 1.0 star rating      278\n",
       "Name: star_rating, dtype: int64"
      ]
     },
     "execution_count": 6,
     "metadata": {},
     "output_type": "execute_result"
    }
   ],
   "source": [
    "# Checking star_rating column values to clean df\n",
    "\n",
    "shops['star_rating'].value_counts()"
   ]
  },
  {
   "cell_type": "code",
   "execution_count": 7,
   "metadata": {},
   "outputs": [],
   "source": [
    "# Dropping \"star rating\" string from star_rating column, casting as integer\n",
    "\n",
    "shops['star_rating'] = shops['star_rating'].str[:2].astype(int)"
   ]
  },
  {
   "cell_type": "code",
   "execution_count": 8,
   "metadata": {},
   "outputs": [
    {
     "name": "stderr",
     "output_type": "stream",
     "text": [
      "C:\\Users\\Karl\\.conda\\envs\\u4-s1-nlp\\lib\\site-packages\\ipykernel_launcher.py:9: SettingWithCopyWarning: \n",
      "A value is trying to be set on a copy of a slice from a DataFrame\n",
      "\n",
      "See the caveats in the documentation: https://pandas.pydata.org/pandas-docs/stable/user_guide/indexing.html#returning-a-view-versus-a-copy\n",
      "  if __name__ == '__main__':\n"
     ]
    }
   ],
   "source": [
    "# Creating new column for date, dropping date from full_review_text\n",
    "\n",
    "# for review in shops['full_review_text']:\n",
    "#     shops['date'] = review.split()[0]\n",
    "\n",
    "shops['date'] = \"\"\n",
    "\n",
    "for i in range(7616):\n",
    "    shops['date'][i] = shops['full_review_text'][i].split()[0]"
   ]
  },
  {
   "cell_type": "code",
   "execution_count": 9,
   "metadata": {},
   "outputs": [
    {
     "data": {
      "text/plain": [
       "0      2016-11-25\n",
       "1      2016-12-02\n",
       "2      2016-11-30\n",
       "3      2016-11-25\n",
       "4      2016-12-03\n",
       "          ...    \n",
       "7611   2015-02-19\n",
       "7612   2016-01-21\n",
       "7613   2015-04-30\n",
       "7614   2015-08-02\n",
       "7615   2015-05-23\n",
       "Name: date, Length: 7616, dtype: datetime64[ns]"
      ]
     },
     "execution_count": 9,
     "metadata": {},
     "output_type": "execute_result"
    }
   ],
   "source": [
    "# Casting date as datetime\n",
    "\n",
    "pd.to_datetime(shops['date'], infer_datetime_format=True)"
   ]
  },
  {
   "cell_type": "code",
   "execution_count": 10,
   "metadata": {},
   "outputs": [
    {
     "name": "stderr",
     "output_type": "stream",
     "text": [
      "C:\\Users\\Karl\\.conda\\envs\\u4-s1-nlp\\lib\\site-packages\\ipykernel_launcher.py:4: SettingWithCopyWarning: \n",
      "A value is trying to be set on a copy of a slice from a DataFrame\n",
      "\n",
      "See the caveats in the documentation: https://pandas.pydata.org/pandas-docs/stable/user_guide/indexing.html#returning-a-view-versus-a-copy\n",
      "  after removing the cwd from sys.path.\n"
     ]
    }
   ],
   "source": [
    "# Dropping date from full_review_text\n",
    "\n",
    "for i in range(7616):\n",
    "    shops['full_review_text'][i] = shops['full_review_text'][i].split(maxsplit=1)[1]"
   ]
  },
  {
   "cell_type": "code",
   "execution_count": 11,
   "metadata": {},
   "outputs": [
    {
     "data": {
      "text/html": [
       "<div>\n",
       "<style scoped>\n",
       "    .dataframe tbody tr th:only-of-type {\n",
       "        vertical-align: middle;\n",
       "    }\n",
       "\n",
       "    .dataframe tbody tr th {\n",
       "        vertical-align: top;\n",
       "    }\n",
       "\n",
       "    .dataframe thead th {\n",
       "        text-align: right;\n",
       "    }\n",
       "</style>\n",
       "<table border=\"1\" class=\"dataframe\">\n",
       "  <thead>\n",
       "    <tr style=\"text-align: right;\">\n",
       "      <th></th>\n",
       "      <th>coffee_shop_name</th>\n",
       "      <th>full_review_text</th>\n",
       "      <th>star_rating</th>\n",
       "      <th>date</th>\n",
       "    </tr>\n",
       "  </thead>\n",
       "  <tbody>\n",
       "    <tr>\n",
       "      <th>79</th>\n",
       "      <td>Vintage Heart Coffee</td>\n",
       "      <td>Updated review 3 check-ins Cutest little coffe...</td>\n",
       "      <td>5</td>\n",
       "      <td>6/30/2016</td>\n",
       "    </tr>\n",
       "    <tr>\n",
       "      <th>127</th>\n",
       "      <td>Vintage Heart Coffee</td>\n",
       "      <td>Updated review 16 check-ins Updating only to s...</td>\n",
       "      <td>5</td>\n",
       "      <td>3/24/2016</td>\n",
       "    </tr>\n",
       "    <tr>\n",
       "      <th>231</th>\n",
       "      <td>Mozart’s Coffee Roasters</td>\n",
       "      <td>Updated review 2 check-ins Buy 4 bags of coffe...</td>\n",
       "      <td>5</td>\n",
       "      <td>11/27/2016</td>\n",
       "    </tr>\n",
       "    <tr>\n",
       "      <th>241</th>\n",
       "      <td>Mozart’s Coffee Roasters</td>\n",
       "      <td>Updated review 1 check-in I give This 4-stars ...</td>\n",
       "      <td>4</td>\n",
       "      <td>5/14/2016</td>\n",
       "    </tr>\n",
       "    <tr>\n",
       "      <th>364</th>\n",
       "      <td>Summermoon Coffee Bar</td>\n",
       "      <td>Updated review 2 check-ins Plenty of different...</td>\n",
       "      <td>5</td>\n",
       "      <td>9/25/2016</td>\n",
       "    </tr>\n",
       "    <tr>\n",
       "      <th>...</th>\n",
       "      <td>...</td>\n",
       "      <td>...</td>\n",
       "      <td>...</td>\n",
       "      <td>...</td>\n",
       "    </tr>\n",
       "    <tr>\n",
       "      <th>7428</th>\n",
       "      <td>Hot Mama’s Cafe</td>\n",
       "      <td>Updated review Used to love this place but are...</td>\n",
       "      <td>1</td>\n",
       "      <td>4/26/2015</td>\n",
       "    </tr>\n",
       "    <tr>\n",
       "      <th>7485</th>\n",
       "      <td>Hot Mama’s Cafe</td>\n",
       "      <td>Updated review Props to the Owner Mama of Hot ...</td>\n",
       "      <td>5</td>\n",
       "      <td>9/7/2010</td>\n",
       "    </tr>\n",
       "    <tr>\n",
       "      <th>7538</th>\n",
       "      <td>The Steeping Room</td>\n",
       "      <td>Updated review Today the strada was a nasty so...</td>\n",
       "      <td>2</td>\n",
       "      <td>10/10/2015</td>\n",
       "    </tr>\n",
       "    <tr>\n",
       "      <th>7554</th>\n",
       "      <td>The Steeping Room</td>\n",
       "      <td>Updated review I have to downgrade my review. ...</td>\n",
       "      <td>1</td>\n",
       "      <td>8/31/2015</td>\n",
       "    </tr>\n",
       "    <tr>\n",
       "      <th>7584</th>\n",
       "      <td>The Steeping Room</td>\n",
       "      <td>Updated review 17 check-ins Listed in Gluttony...</td>\n",
       "      <td>5</td>\n",
       "      <td>4/30/2014</td>\n",
       "    </tr>\n",
       "  </tbody>\n",
       "</table>\n",
       "<p>193 rows × 4 columns</p>\n",
       "</div>"
      ],
      "text/plain": [
       "               coffee_shop_name  \\\n",
       "79        Vintage Heart Coffee    \n",
       "127       Vintage Heart Coffee    \n",
       "231   Mozart’s Coffee Roasters    \n",
       "241   Mozart’s Coffee Roasters    \n",
       "364      Summermoon Coffee Bar    \n",
       "...                         ...   \n",
       "7428           Hot Mama’s Cafe    \n",
       "7485           Hot Mama’s Cafe    \n",
       "7538         The Steeping Room    \n",
       "7554         The Steeping Room    \n",
       "7584         The Steeping Room    \n",
       "\n",
       "                                       full_review_text  star_rating  \\\n",
       "79    Updated review 3 check-ins Cutest little coffe...            5   \n",
       "127   Updated review 16 check-ins Updating only to s...            5   \n",
       "231   Updated review 2 check-ins Buy 4 bags of coffe...            5   \n",
       "241   Updated review 1 check-in I give This 4-stars ...            4   \n",
       "364   Updated review 2 check-ins Plenty of different...            5   \n",
       "...                                                 ...          ...   \n",
       "7428  Updated review Used to love this place but are...            1   \n",
       "7485  Updated review Props to the Owner Mama of Hot ...            5   \n",
       "7538  Updated review Today the strada was a nasty so...            2   \n",
       "7554  Updated review I have to downgrade my review. ...            1   \n",
       "7584  Updated review 17 check-ins Listed in Gluttony...            5   \n",
       "\n",
       "            date  \n",
       "79     6/30/2016  \n",
       "127    3/24/2016  \n",
       "231   11/27/2016  \n",
       "241    5/14/2016  \n",
       "364    9/25/2016  \n",
       "...          ...  \n",
       "7428   4/26/2015  \n",
       "7485    9/7/2010  \n",
       "7538  10/10/2015  \n",
       "7554   8/31/2015  \n",
       "7584   4/30/2014  \n",
       "\n",
       "[193 rows x 4 columns]"
      ]
     },
     "execution_count": 11,
     "metadata": {},
     "output_type": "execute_result"
    }
   ],
   "source": [
    "shops[ shops['full_review_text'].str.contains('Updated review')]"
   ]
  },
  {
   "cell_type": "code",
   "execution_count": 12,
   "metadata": {},
   "outputs": [
    {
     "name": "stderr",
     "output_type": "stream",
     "text": [
      "C:\\Users\\Karl\\.conda\\envs\\u4-s1-nlp\\lib\\site-packages\\ipykernel_launcher.py:10: SettingWithCopyWarning: \n",
      "A value is trying to be set on a copy of a slice from a DataFrame\n",
      "\n",
      "See the caveats in the documentation: https://pandas.pydata.org/pandas-docs/stable/user_guide/indexing.html#returning-a-view-versus-a-copy\n",
      "  # Remove the CWD from sys.path while we load stuff.\n",
      "C:\\Users\\Karl\\.conda\\envs\\u4-s1-nlp\\lib\\site-packages\\ipykernel_launcher.py:7: SettingWithCopyWarning: \n",
      "A value is trying to be set on a copy of a slice from a DataFrame\n",
      "\n",
      "See the caveats in the documentation: https://pandas.pydata.org/pandas-docs/stable/user_guide/indexing.html#returning-a-view-versus-a-copy\n",
      "  import sys\n",
      "C:\\Users\\Karl\\.conda\\envs\\u4-s1-nlp\\lib\\site-packages\\ipykernel_launcher.py:8: SettingWithCopyWarning: \n",
      "A value is trying to be set on a copy of a slice from a DataFrame\n",
      "\n",
      "See the caveats in the documentation: https://pandas.pydata.org/pandas-docs/stable/user_guide/indexing.html#returning-a-view-versus-a-copy\n",
      "  \n"
     ]
    }
   ],
   "source": [
    "# Creating new column for \"Updated Reviews\"\n",
    "\n",
    "shops['updated_review'] = \"\"\n",
    "\n",
    "for i in range(7616):\n",
    "    if 'Updated review' in shops['full_review_text'][i]:\n",
    "        shops['updated_review'][i] = 1\n",
    "        shops['full_review_text'][i] = shops['full_review_text'][i].split(maxsplit=2)[2]\n",
    "    else:\n",
    "        shops['updated_review'][i] = 0"
   ]
  },
  {
   "cell_type": "code",
   "execution_count": 13,
   "metadata": {},
   "outputs": [
    {
     "name": "stderr",
     "output_type": "stream",
     "text": [
      "C:\\Users\\Karl\\.conda\\envs\\u4-s1-nlp\\lib\\site-packages\\ipykernel_launcher.py:7: SettingWithCopyWarning: \n",
      "A value is trying to be set on a copy of a slice from a DataFrame\n",
      "\n",
      "See the caveats in the documentation: https://pandas.pydata.org/pandas-docs/stable/user_guide/indexing.html#returning-a-view-versus-a-copy\n",
      "  import sys\n",
      "C:\\Users\\Karl\\.conda\\envs\\u4-s1-nlp\\lib\\site-packages\\ipykernel_launcher.py:8: SettingWithCopyWarning: \n",
      "A value is trying to be set on a copy of a slice from a DataFrame\n",
      "\n",
      "See the caveats in the documentation: https://pandas.pydata.org/pandas-docs/stable/user_guide/indexing.html#returning-a-view-versus-a-copy\n",
      "  \n",
      "C:\\Users\\Karl\\.conda\\envs\\u4-s1-nlp\\lib\\site-packages\\ipykernel_launcher.py:13: SettingWithCopyWarning: \n",
      "A value is trying to be set on a copy of a slice from a DataFrame\n",
      "\n",
      "See the caveats in the documentation: https://pandas.pydata.org/pandas-docs/stable/user_guide/indexing.html#returning-a-view-versus-a-copy\n",
      "  del sys.path[0]\n"
     ]
    }
   ],
   "source": [
    "# Creating new column for check-ins\n",
    "\n",
    "shops['check_ins'] = \"\"\n",
    "\n",
    "for i in range(7616):\n",
    "    if 'check-in' in shops['full_review_text'][i].split(maxsplit=2)[1]:\n",
    "        shops['check_ins'][i] = shops['full_review_text'][i].split(maxsplit=2)[0]\n",
    "        shops['full_review_text'][i] = shops['full_review_text'][i].split(maxsplit=2)[2]\n",
    "    elif 'check-ins' in shops['full_review_text'][i].split(maxsplit=2)[1]:\n",
    "        shops['check_ins'][i] = shops['full_review_text'][i].split(maxsplit=2)[0]\n",
    "        shops['full_review_text'][i] = shops['full_review_text'][i].split(maxsplit=2)[2]\n",
    "    else:\n",
    "        shops['check_ins'][i] = 0"
   ]
  },
  {
   "cell_type": "code",
   "execution_count": 14,
   "metadata": {},
   "outputs": [
    {
     "data": {
      "text/plain": [
       "0       1\n",
       "1       0\n",
       "2       1\n",
       "3       0\n",
       "4       1\n",
       "       ..\n",
       "7611    0\n",
       "7612    0\n",
       "7613    0\n",
       "7614    0\n",
       "7615    0\n",
       "Name: check_ins, Length: 7616, dtype: int32"
      ]
     },
     "execution_count": 14,
     "metadata": {},
     "output_type": "execute_result"
    }
   ],
   "source": [
    "# Casting updated_review and check_ins as integers\n",
    "\n",
    "shops['updated_review'].astype(int)\n",
    "shops['check_ins'].astype(int)"
   ]
  },
  {
   "cell_type": "code",
   "execution_count": 15,
   "metadata": {},
   "outputs": [
    {
     "data": {
      "text/html": [
       "<div>\n",
       "<style scoped>\n",
       "    .dataframe tbody tr th:only-of-type {\n",
       "        vertical-align: middle;\n",
       "    }\n",
       "\n",
       "    .dataframe tbody tr th {\n",
       "        vertical-align: top;\n",
       "    }\n",
       "\n",
       "    .dataframe thead th {\n",
       "        text-align: right;\n",
       "    }\n",
       "</style>\n",
       "<table border=\"1\" class=\"dataframe\">\n",
       "  <thead>\n",
       "    <tr style=\"text-align: right;\">\n",
       "      <th></th>\n",
       "      <th>coffee_shop_name</th>\n",
       "      <th>full_review_text</th>\n",
       "      <th>star_rating</th>\n",
       "      <th>date</th>\n",
       "      <th>updated_review</th>\n",
       "      <th>check_ins</th>\n",
       "    </tr>\n",
       "  </thead>\n",
       "  <tbody>\n",
       "    <tr>\n",
       "      <th>1</th>\n",
       "      <td>The Factory - Cafe With a Soul</td>\n",
       "      <td>Listed in Date Night: Austin, Ambiance in Aust...</td>\n",
       "      <td>4</td>\n",
       "      <td>12/2/2016</td>\n",
       "      <td>0</td>\n",
       "      <td>0</td>\n",
       "    </tr>\n",
       "    <tr>\n",
       "      <th>2</th>\n",
       "      <td>The Factory - Cafe With a Soul</td>\n",
       "      <td>Listed in Brunch Spots I loved the eclectic an...</td>\n",
       "      <td>4</td>\n",
       "      <td>11/30/2016</td>\n",
       "      <td>0</td>\n",
       "      <td>1</td>\n",
       "    </tr>\n",
       "    <tr>\n",
       "      <th>6</th>\n",
       "      <td>The Factory - Cafe With a Soul</td>\n",
       "      <td>Listed in \"Nuptial Coffee Bliss!\", Anderson La...</td>\n",
       "      <td>4</td>\n",
       "      <td>10/27/2016</td>\n",
       "      <td>0</td>\n",
       "      <td>2</td>\n",
       "    </tr>\n",
       "    <tr>\n",
       "      <th>10</th>\n",
       "      <td>The Factory - Cafe With a Soul</td>\n",
       "      <td>Listed in Americano This is not your average c...</td>\n",
       "      <td>4</td>\n",
       "      <td>10/22/2016</td>\n",
       "      <td>0</td>\n",
       "      <td>1</td>\n",
       "    </tr>\n",
       "    <tr>\n",
       "      <th>12</th>\n",
       "      <td>The Factory - Cafe With a Soul</td>\n",
       "      <td>Listed in 2016 - The Third Time is a Charm! Th...</td>\n",
       "      <td>3</td>\n",
       "      <td>11/17/2016</td>\n",
       "      <td>0</td>\n",
       "      <td>1</td>\n",
       "    </tr>\n",
       "    <tr>\n",
       "      <th>...</th>\n",
       "      <td>...</td>\n",
       "      <td>...</td>\n",
       "      <td>...</td>\n",
       "      <td>...</td>\n",
       "      <td>...</td>\n",
       "      <td>...</td>\n",
       "    </tr>\n",
       "    <tr>\n",
       "      <th>7584</th>\n",
       "      <td>The Steeping Room</td>\n",
       "      <td>Listed in Gluttony or Sloth?, Old Yelper, new ...</td>\n",
       "      <td>5</td>\n",
       "      <td>4/30/2014</td>\n",
       "      <td>1</td>\n",
       "      <td>17</td>\n",
       "    </tr>\n",
       "    <tr>\n",
       "      <th>7586</th>\n",
       "      <td>The Steeping Room</td>\n",
       "      <td>Listed in So, you wanna eat in North Central A...</td>\n",
       "      <td>4</td>\n",
       "      <td>4/21/2013</td>\n",
       "      <td>0</td>\n",
       "      <td>0</td>\n",
       "    </tr>\n",
       "    <tr>\n",
       "      <th>7587</th>\n",
       "      <td>The Steeping Room</td>\n",
       "      <td>Listed in 100 Yelp Review Challenge I came her...</td>\n",
       "      <td>4</td>\n",
       "      <td>3/6/2013</td>\n",
       "      <td>0</td>\n",
       "      <td>2</td>\n",
       "    </tr>\n",
       "    <tr>\n",
       "      <th>7595</th>\n",
       "      <td>The Steeping Room</td>\n",
       "      <td>Listed in Vegan and the Beast I've been here s...</td>\n",
       "      <td>4</td>\n",
       "      <td>1/9/2013</td>\n",
       "      <td>0</td>\n",
       "      <td>4</td>\n",
       "    </tr>\n",
       "    <tr>\n",
       "      <th>7597</th>\n",
       "      <td>The Steeping Room</td>\n",
       "      <td>Listed in 2014 Yelp 100 Challenge HOLLA!!!!, S...</td>\n",
       "      <td>4</td>\n",
       "      <td>1/3/2014</td>\n",
       "      <td>0</td>\n",
       "      <td>1</td>\n",
       "    </tr>\n",
       "  </tbody>\n",
       "</table>\n",
       "<p>564 rows × 6 columns</p>\n",
       "</div>"
      ],
      "text/plain": [
       "                     coffee_shop_name  \\\n",
       "1     The Factory - Cafe With a Soul    \n",
       "2     The Factory - Cafe With a Soul    \n",
       "6     The Factory - Cafe With a Soul    \n",
       "10    The Factory - Cafe With a Soul    \n",
       "12    The Factory - Cafe With a Soul    \n",
       "...                               ...   \n",
       "7584               The Steeping Room    \n",
       "7586               The Steeping Room    \n",
       "7587               The Steeping Room    \n",
       "7595               The Steeping Room    \n",
       "7597               The Steeping Room    \n",
       "\n",
       "                                       full_review_text  star_rating  \\\n",
       "1     Listed in Date Night: Austin, Ambiance in Aust...            4   \n",
       "2     Listed in Brunch Spots I loved the eclectic an...            4   \n",
       "6     Listed in \"Nuptial Coffee Bliss!\", Anderson La...            4   \n",
       "10    Listed in Americano This is not your average c...            4   \n",
       "12    Listed in 2016 - The Third Time is a Charm! Th...            3   \n",
       "...                                                 ...          ...   \n",
       "7584  Listed in Gluttony or Sloth?, Old Yelper, new ...            5   \n",
       "7586  Listed in So, you wanna eat in North Central A...            4   \n",
       "7587  Listed in 100 Yelp Review Challenge I came her...            4   \n",
       "7595  Listed in Vegan and the Beast I've been here s...            4   \n",
       "7597  Listed in 2014 Yelp 100 Challenge HOLLA!!!!, S...            4   \n",
       "\n",
       "            date updated_review check_ins  \n",
       "1      12/2/2016              0         0  \n",
       "2     11/30/2016              0         1  \n",
       "6     10/27/2016              0         2  \n",
       "10    10/22/2016              0         1  \n",
       "12    11/17/2016              0         1  \n",
       "...          ...            ...       ...  \n",
       "7584   4/30/2014              1        17  \n",
       "7586   4/21/2013              0         0  \n",
       "7587    3/6/2013              0         2  \n",
       "7595    1/9/2013              0         4  \n",
       "7597    1/3/2014              0         1  \n",
       "\n",
       "[564 rows x 6 columns]"
      ]
     },
     "execution_count": 15,
     "metadata": {},
     "output_type": "execute_result"
    }
   ],
   "source": [
    "shops[ shops['full_review_text'].str.contains(\"Listed in\") ]"
   ]
  },
  {
   "cell_type": "code",
   "execution_count": 16,
   "metadata": {},
   "outputs": [
    {
     "name": "stderr",
     "output_type": "stream",
     "text": [
      "C:\\Users\\Karl\\.conda\\envs\\u4-s1-nlp\\lib\\site-packages\\ipykernel_launcher.py:10: SettingWithCopyWarning: \n",
      "A value is trying to be set on a copy of a slice from a DataFrame\n",
      "\n",
      "See the caveats in the documentation: https://pandas.pydata.org/pandas-docs/stable/user_guide/indexing.html#returning-a-view-versus-a-copy\n",
      "  # Remove the CWD from sys.path while we load stuff.\n",
      "C:\\Users\\Karl\\.conda\\envs\\u4-s1-nlp\\lib\\site-packages\\ipykernel_launcher.py:8: SettingWithCopyWarning: \n",
      "A value is trying to be set on a copy of a slice from a DataFrame\n",
      "\n",
      "See the caveats in the documentation: https://pandas.pydata.org/pandas-docs/stable/user_guide/indexing.html#returning-a-view-versus-a-copy\n",
      "  \n"
     ]
    }
   ],
   "source": [
    "# Creating column listed_elsewhere. Wanted to remove this from full_review_text, but can't figure out how to \n",
    "# parse for the entire df. Instead just going to add \"Listed in\" to stop words\n",
    "\n",
    "shops['listed_elsewhere'] = \"\"\n",
    "\n",
    "for i in range(7616):\n",
    "    if 'Listed in' in shops['full_review_text'][i]:\n",
    "        shops['listed_elsewhere'][i] = 1\n",
    "    else:    \n",
    "        shops['listed_elsewhere'][i] = 0"
   ]
  },
  {
   "cell_type": "code",
   "execution_count": 17,
   "metadata": {},
   "outputs": [
    {
     "data": {
      "text/html": [
       "<div>\n",
       "<style scoped>\n",
       "    .dataframe tbody tr th:only-of-type {\n",
       "        vertical-align: middle;\n",
       "    }\n",
       "\n",
       "    .dataframe tbody tr th {\n",
       "        vertical-align: top;\n",
       "    }\n",
       "\n",
       "    .dataframe thead th {\n",
       "        text-align: right;\n",
       "    }\n",
       "</style>\n",
       "<table border=\"1\" class=\"dataframe\">\n",
       "  <thead>\n",
       "    <tr style=\"text-align: right;\">\n",
       "      <th></th>\n",
       "      <th>coffee_shop_name</th>\n",
       "      <th>full_review_text</th>\n",
       "      <th>star_rating</th>\n",
       "      <th>date</th>\n",
       "      <th>updated_review</th>\n",
       "      <th>check_ins</th>\n",
       "      <th>listed_elsewhere</th>\n",
       "    </tr>\n",
       "  </thead>\n",
       "  <tbody>\n",
       "    <tr>\n",
       "      <th>0</th>\n",
       "      <td>The Factory - Cafe With a Soul</td>\n",
       "      <td>Love love loved the atmosphere! Every corner o...</td>\n",
       "      <td>5</td>\n",
       "      <td>11/25/2016</td>\n",
       "      <td>0</td>\n",
       "      <td>1</td>\n",
       "      <td>0</td>\n",
       "    </tr>\n",
       "    <tr>\n",
       "      <th>1</th>\n",
       "      <td>The Factory - Cafe With a Soul</td>\n",
       "      <td>Listed in Date Night: Austin, Ambiance in Aust...</td>\n",
       "      <td>4</td>\n",
       "      <td>12/2/2016</td>\n",
       "      <td>0</td>\n",
       "      <td>0</td>\n",
       "      <td>1</td>\n",
       "    </tr>\n",
       "    <tr>\n",
       "      <th>2</th>\n",
       "      <td>The Factory - Cafe With a Soul</td>\n",
       "      <td>Listed in Brunch Spots I loved the eclectic an...</td>\n",
       "      <td>4</td>\n",
       "      <td>11/30/2016</td>\n",
       "      <td>0</td>\n",
       "      <td>1</td>\n",
       "      <td>1</td>\n",
       "    </tr>\n",
       "    <tr>\n",
       "      <th>3</th>\n",
       "      <td>The Factory - Cafe With a Soul</td>\n",
       "      <td>Very cool decor! Good drinks Nice seating  How...</td>\n",
       "      <td>2</td>\n",
       "      <td>11/25/2016</td>\n",
       "      <td>0</td>\n",
       "      <td>0</td>\n",
       "      <td>0</td>\n",
       "    </tr>\n",
       "    <tr>\n",
       "      <th>4</th>\n",
       "      <td>The Factory - Cafe With a Soul</td>\n",
       "      <td>They are located within the Northcross mall sh...</td>\n",
       "      <td>4</td>\n",
       "      <td>12/3/2016</td>\n",
       "      <td>0</td>\n",
       "      <td>1</td>\n",
       "      <td>0</td>\n",
       "    </tr>\n",
       "  </tbody>\n",
       "</table>\n",
       "</div>"
      ],
      "text/plain": [
       "                  coffee_shop_name  \\\n",
       "0  The Factory - Cafe With a Soul    \n",
       "1  The Factory - Cafe With a Soul    \n",
       "2  The Factory - Cafe With a Soul    \n",
       "3  The Factory - Cafe With a Soul    \n",
       "4  The Factory - Cafe With a Soul    \n",
       "\n",
       "                                    full_review_text  star_rating        date  \\\n",
       "0  Love love loved the atmosphere! Every corner o...            5  11/25/2016   \n",
       "1  Listed in Date Night: Austin, Ambiance in Aust...            4   12/2/2016   \n",
       "2  Listed in Brunch Spots I loved the eclectic an...            4  11/30/2016   \n",
       "3  Very cool decor! Good drinks Nice seating  How...            2  11/25/2016   \n",
       "4  They are located within the Northcross mall sh...            4   12/3/2016   \n",
       "\n",
       "  updated_review check_ins listed_elsewhere  \n",
       "0              0         1                0  \n",
       "1              0         0                1  \n",
       "2              0         1                1  \n",
       "3              0         0                0  \n",
       "4              0         1                0  "
      ]
     },
     "execution_count": 17,
     "metadata": {},
     "output_type": "execute_result"
    }
   ],
   "source": [
    "shops.head()"
   ]
  },
  {
   "cell_type": "markdown",
   "metadata": {},
   "source": [
    "## How do we want to analyze these coffee shop tokens? \n",
    "\n",
    "- Overall Word / Token Count\n",
    "- View Counts by Rating \n",
    "- *Hint:* a 'bad' coffee shops has a rating betweeen 1 & 3 based on the distribution of ratings. A 'good' coffee shop is a 4 or 5. "
   ]
  },
  {
   "cell_type": "code",
   "execution_count": 18,
   "metadata": {},
   "outputs": [],
   "source": [
    "# Import statements\n",
    "\n",
    "from collections import Counter\n",
    "import re\n",
    "import spacy\n",
    "from spacy.tokenizer import Tokenizer\n",
    "\n",
    "nlp = spacy.load(\"en_core_web_lg\")"
   ]
  },
  {
   "cell_type": "code",
   "execution_count": 19,
   "metadata": {},
   "outputs": [],
   "source": [
    "# Defining tokenize function\n",
    "\n",
    "def tokenize(text):\n",
    "    tokens = re.sub('[^a-zA-Z 0-9]', '', text)\n",
    "    tokens = tokens.lower().split()\n",
    "    return tokens"
   ]
  },
  {
   "cell_type": "code",
   "execution_count": 20,
   "metadata": {},
   "outputs": [],
   "source": [
    "# Creating tokens in shops df\n",
    "\n",
    "shops['tokens'] = shops['full_review_text'].apply(tokenize)"
   ]
  },
  {
   "cell_type": "code",
   "execution_count": 21,
   "metadata": {},
   "outputs": [
    {
     "name": "stderr",
     "output_type": "stream",
     "text": [
      "C:\\Users\\Karl\\.conda\\envs\\u4-s1-nlp\\lib\\site-packages\\ipykernel_launcher.py:6: SettingWithCopyWarning: \n",
      "A value is trying to be set on a copy of a slice from a DataFrame\n",
      "\n",
      "See the caveats in the documentation: https://pandas.pydata.org/pandas-docs/stable/user_guide/indexing.html#returning-a-view-versus-a-copy\n",
      "  \n"
     ]
    }
   ],
   "source": [
    "# Creating new column for word count\n",
    "\n",
    "shops['word_count'] = \"\"\n",
    "\n",
    "for i in range(7616):\n",
    "    shops['word_count'][i] = len(shops['tokens'][i])"
   ]
  },
  {
   "cell_type": "code",
   "execution_count": 22,
   "metadata": {},
   "outputs": [
    {
     "name": "stderr",
     "output_type": "stream",
     "text": [
      "C:\\Users\\Karl\\.conda\\envs\\u4-s1-nlp\\lib\\site-packages\\ipykernel_launcher.py:9: SettingWithCopyWarning: \n",
      "A value is trying to be set on a copy of a slice from a DataFrame\n",
      "\n",
      "See the caveats in the documentation: https://pandas.pydata.org/pandas-docs/stable/user_guide/indexing.html#returning-a-view-versus-a-copy\n",
      "  if __name__ == '__main__':\n",
      "C:\\Users\\Karl\\.conda\\envs\\u4-s1-nlp\\lib\\site-packages\\ipykernel_launcher.py:7: SettingWithCopyWarning: \n",
      "A value is trying to be set on a copy of a slice from a DataFrame\n",
      "\n",
      "See the caveats in the documentation: https://pandas.pydata.org/pandas-docs/stable/user_guide/indexing.html#returning-a-view-versus-a-copy\n",
      "  import sys\n"
     ]
    }
   ],
   "source": [
    "# Creating good/bad column, where 1 is \"good\" and 2 is \"bad\"\n",
    "\n",
    "shops['good_or_bad'] = \"\"\n",
    "\n",
    "for i in range(7616):\n",
    "    if shops['star_rating'][i] <= 3:\n",
    "        shops['good_or_bad'][i] = 0\n",
    "    else:\n",
    "        shops['good_or_bad'][i] = 1\n",
    "\n"
   ]
  },
  {
   "cell_type": "code",
   "execution_count": 23,
   "metadata": {},
   "outputs": [
    {
     "data": {
      "text/html": [
       "<div>\n",
       "<style scoped>\n",
       "    .dataframe tbody tr th:only-of-type {\n",
       "        vertical-align: middle;\n",
       "    }\n",
       "\n",
       "    .dataframe tbody tr th {\n",
       "        vertical-align: top;\n",
       "    }\n",
       "\n",
       "    .dataframe thead th {\n",
       "        text-align: right;\n",
       "    }\n",
       "</style>\n",
       "<table border=\"1\" class=\"dataframe\">\n",
       "  <thead>\n",
       "    <tr style=\"text-align: right;\">\n",
       "      <th></th>\n",
       "      <th>coffee_shop_name</th>\n",
       "      <th>full_review_text</th>\n",
       "      <th>star_rating</th>\n",
       "      <th>date</th>\n",
       "      <th>updated_review</th>\n",
       "      <th>check_ins</th>\n",
       "      <th>listed_elsewhere</th>\n",
       "      <th>tokens</th>\n",
       "      <th>word_count</th>\n",
       "      <th>good_or_bad</th>\n",
       "    </tr>\n",
       "  </thead>\n",
       "  <tbody>\n",
       "    <tr>\n",
       "      <th>0</th>\n",
       "      <td>The Factory - Cafe With a Soul</td>\n",
       "      <td>Love love loved the atmosphere! Every corner o...</td>\n",
       "      <td>5</td>\n",
       "      <td>11/25/2016</td>\n",
       "      <td>0</td>\n",
       "      <td>1</td>\n",
       "      <td>0</td>\n",
       "      <td>[love, love, loved, the, atmosphere, every, co...</td>\n",
       "      <td>95</td>\n",
       "      <td>1</td>\n",
       "    </tr>\n",
       "    <tr>\n",
       "      <th>1</th>\n",
       "      <td>The Factory - Cafe With a Soul</td>\n",
       "      <td>Listed in Date Night: Austin, Ambiance in Aust...</td>\n",
       "      <td>4</td>\n",
       "      <td>12/2/2016</td>\n",
       "      <td>0</td>\n",
       "      <td>0</td>\n",
       "      <td>1</td>\n",
       "      <td>[listed, in, date, night, austin, ambiance, in...</td>\n",
       "      <td>45</td>\n",
       "      <td>1</td>\n",
       "    </tr>\n",
       "    <tr>\n",
       "      <th>2</th>\n",
       "      <td>The Factory - Cafe With a Soul</td>\n",
       "      <td>Listed in Brunch Spots I loved the eclectic an...</td>\n",
       "      <td>4</td>\n",
       "      <td>11/30/2016</td>\n",
       "      <td>0</td>\n",
       "      <td>1</td>\n",
       "      <td>1</td>\n",
       "      <td>[listed, in, brunch, spots, i, loved, the, ecl...</td>\n",
       "      <td>237</td>\n",
       "      <td>1</td>\n",
       "    </tr>\n",
       "    <tr>\n",
       "      <th>3</th>\n",
       "      <td>The Factory - Cafe With a Soul</td>\n",
       "      <td>Very cool decor! Good drinks Nice seating  How...</td>\n",
       "      <td>2</td>\n",
       "      <td>11/25/2016</td>\n",
       "      <td>0</td>\n",
       "      <td>0</td>\n",
       "      <td>0</td>\n",
       "      <td>[very, cool, decor, good, drinks, nice, seatin...</td>\n",
       "      <td>67</td>\n",
       "      <td>0</td>\n",
       "    </tr>\n",
       "    <tr>\n",
       "      <th>4</th>\n",
       "      <td>The Factory - Cafe With a Soul</td>\n",
       "      <td>They are located within the Northcross mall sh...</td>\n",
       "      <td>4</td>\n",
       "      <td>12/3/2016</td>\n",
       "      <td>0</td>\n",
       "      <td>1</td>\n",
       "      <td>0</td>\n",
       "      <td>[they, are, located, within, the, northcross, ...</td>\n",
       "      <td>111</td>\n",
       "      <td>1</td>\n",
       "    </tr>\n",
       "  </tbody>\n",
       "</table>\n",
       "</div>"
      ],
      "text/plain": [
       "                  coffee_shop_name  \\\n",
       "0  The Factory - Cafe With a Soul    \n",
       "1  The Factory - Cafe With a Soul    \n",
       "2  The Factory - Cafe With a Soul    \n",
       "3  The Factory - Cafe With a Soul    \n",
       "4  The Factory - Cafe With a Soul    \n",
       "\n",
       "                                    full_review_text  star_rating        date  \\\n",
       "0  Love love loved the atmosphere! Every corner o...            5  11/25/2016   \n",
       "1  Listed in Date Night: Austin, Ambiance in Aust...            4   12/2/2016   \n",
       "2  Listed in Brunch Spots I loved the eclectic an...            4  11/30/2016   \n",
       "3  Very cool decor! Good drinks Nice seating  How...            2  11/25/2016   \n",
       "4  They are located within the Northcross mall sh...            4   12/3/2016   \n",
       "\n",
       "  updated_review check_ins listed_elsewhere  \\\n",
       "0              0         1                0   \n",
       "1              0         0                1   \n",
       "2              0         1                1   \n",
       "3              0         0                0   \n",
       "4              0         1                0   \n",
       "\n",
       "                                              tokens word_count good_or_bad  \n",
       "0  [love, love, loved, the, atmosphere, every, co...         95           1  \n",
       "1  [listed, in, date, night, austin, ambiance, in...         45           1  \n",
       "2  [listed, in, brunch, spots, i, loved, the, ecl...        237           1  \n",
       "3  [very, cool, decor, good, drinks, nice, seatin...         67           0  \n",
       "4  [they, are, located, within, the, northcross, ...        111           1  "
      ]
     },
     "execution_count": 23,
     "metadata": {},
     "output_type": "execute_result"
    }
   ],
   "source": [
    "shops.head()"
   ]
  },
  {
   "cell_type": "code",
   "execution_count": null,
   "metadata": {},
   "outputs": [],
   "source": []
  },
  {
   "cell_type": "markdown",
   "metadata": {},
   "source": [
    "## Can visualize the words with the greatest difference in counts between 'good' & 'bad'?\n",
    "\n",
    "Couple Notes: \n",
    "- Rel. freq. instead of absolute counts b/c of different numbers of reviews\n",
    "- Only look at the top 5-10 words with the greatest differences\n"
   ]
  },
  {
   "cell_type": "code",
   "execution_count": 24,
   "metadata": {},
   "outputs": [],
   "source": [
    "# Tokenizer pipe\n",
    "\n",
    "tokenizer = Tokenizer(nlp.vocab)\n",
    "\n",
    "tokens_good = []\n",
    "tokens_bad = []\n",
    "\n",
    "for doc in tokenizer.pipe(shops[ shops['good_or_bad'] == 1]['full_review_text'], batch_size=500):\n",
    "    doc_tokens = [token.text for token in doc]\n",
    "    tokens_good.append(doc_tokens)\n",
    "    \n",
    "for doc in tokenizer.pipe(shops[ shops['good_or_bad'] == 0]['full_review_text'], batch_size=500):\n",
    "    doc_tokens = [token.text for token in doc]\n",
    "    tokens_bad.append(doc_tokens)"
   ]
  },
  {
   "cell_type": "code",
   "execution_count": 25,
   "metadata": {},
   "outputs": [
    {
     "name": "stderr",
     "output_type": "stream",
     "text": [
      "C:\\Users\\Karl\\.conda\\envs\\u4-s1-nlp\\lib\\site-packages\\ipykernel_launcher.py:1: SettingWithCopyWarning: \n",
      "A value is trying to be set on a copy of a slice from a DataFrame.\n",
      "Try using .loc[row_indexer,col_indexer] = value instead\n",
      "\n",
      "See the caveats in the documentation: https://pandas.pydata.org/pandas-docs/stable/user_guide/indexing.html#returning-a-view-versus-a-copy\n",
      "  \"\"\"Entry point for launching an IPython kernel.\n",
      "C:\\Users\\Karl\\.conda\\envs\\u4-s1-nlp\\lib\\site-packages\\ipykernel_launcher.py:2: SettingWithCopyWarning: \n",
      "A value is trying to be set on a copy of a slice from a DataFrame.\n",
      "Try using .loc[row_indexer,col_indexer] = value instead\n",
      "\n",
      "See the caveats in the documentation: https://pandas.pydata.org/pandas-docs/stable/user_guide/indexing.html#returning-a-view-versus-a-copy\n",
      "  \n"
     ]
    }
   ],
   "source": [
    "shops[ shops['good_or_bad'] == 1]['tokens'] = tokens_good\n",
    "shops[ shops['good_or_bad'] == 0]['tokens'] = tokens_bad"
   ]
  },
  {
   "cell_type": "code",
   "execution_count": 26,
   "metadata": {},
   "outputs": [],
   "source": [
    "def count(docs):\n",
    "    \n",
    "        word_counts = Counter()\n",
    "        appears_in = Counter()\n",
    "        \n",
    "        total_docs = len(docs)\n",
    "\n",
    "        for doc in docs:\n",
    "            word_counts.update(doc)\n",
    "            appears_in.update(set(doc))\n",
    "\n",
    "        temp = zip(word_counts.keys(), word_counts.values())\n",
    "        \n",
    "        wc = pd.DataFrame(temp, columns = ['word', 'count'])\n",
    "\n",
    "        wc['rank'] = wc['count'].rank(method='first', ascending=False)\n",
    "        total = wc['count'].sum()\n",
    "\n",
    "        wc['pct_total'] = wc['count'].apply(lambda x: x / total)\n",
    "        \n",
    "        wc = wc.sort_values(by='rank')\n",
    "        wc['cul_pct_total'] = wc['pct_total'].cumsum()\n",
    "\n",
    "        t2 = zip(appears_in.keys(), appears_in.values())\n",
    "        ac = pd.DataFrame(t2, columns=['word', 'appears_in'])\n",
    "        wc = ac.merge(wc, on='word')\n",
    "\n",
    "        wc['appears_in_pct'] = wc['appears_in'].apply(lambda x: x / total_docs)\n",
    "        \n",
    "        return wc.sort_values(by='rank')"
   ]
  },
  {
   "cell_type": "code",
   "execution_count": 27,
   "metadata": {},
   "outputs": [
    {
     "data": {
      "image/png": "[encoded data removed]",
      "text/plain": [
       "<Figure size 432x288 with 1 Axes>"
      ]
     },
     "metadata": {
      "needs_background": "light"
     },
     "output_type": "display_data"
    }
   ],
   "source": [
    "import squarify\n",
    "import matplotlib.pyplot as plt\n",
    "\n",
    "\n",
    "wc = count(shops[ shops['good_or_bad'] == 1]['tokens'])\n",
    "wc_top20 = wc[ wc['rank'] <= 20]\n",
    "squarify.plot(sizes=wc_top20['pct_total'], label=wc_top20['word'], alpha=.8)\n",
    "plt.axis('off')\n",
    "plt.show;"
   ]
  },
  {
   "cell_type": "code",
   "execution_count": 28,
   "metadata": {},
   "outputs": [
    {
     "data": {
      "image/png": "[encoded data removed]",
      "text/plain": [
       "<Figure size 432x288 with 1 Axes>"
      ]
     },
     "metadata": {
      "needs_background": "light"
     },
     "output_type": "display_data"
    }
   ],
   "source": [
    "wc = count(shops[ shops['good_or_bad'] == 0]['tokens'])\n",
    "wc_top20 = wc[ wc['rank'] <= 20]\n",
    "squarify.plot(sizes=wc_top20['pct_total'], label=wc_top20['word'], alpha=.8)\n",
    "plt.axis('off')\n",
    "plt.show;"
   ]
  },
  {
   "cell_type": "code",
   "execution_count": 29,
   "metadata": {},
   "outputs": [],
   "source": [
    "STOP_WORDS = nlp.Defaults.stop_words.union([\"coffee\", \"it's\", \"i'm\", \"i've\", \"got\"])"
   ]
  },
  {
   "cell_type": "code",
   "execution_count": 30,
   "metadata": {},
   "outputs": [
    {
     "name": "stderr",
     "output_type": "stream",
     "text": [
      "C:\\Users\\Karl\\.conda\\envs\\u4-s1-nlp\\lib\\site-packages\\ipykernel_launcher.py:14: SettingWithCopyWarning: \n",
      "A value is trying to be set on a copy of a slice from a DataFrame.\n",
      "Try using .loc[row_indexer,col_indexer] = value instead\n",
      "\n",
      "See the caveats in the documentation: https://pandas.pydata.org/pandas-docs/stable/user_guide/indexing.html#returning-a-view-versus-a-copy\n",
      "  \n"
     ]
    }
   ],
   "source": [
    "tokens_good = []\n",
    "\n",
    "for doc in tokenizer.pipe(shops[ shops['good_or_bad'] == 1]['full_review_text'], batch_size=500):\n",
    "    \n",
    "    doc_tokens = []\n",
    "    \n",
    "    for token in doc:\n",
    "        \n",
    "        if (token.is_stop == False) & (token.is_punct == False):\n",
    "            doc_tokens.append(token.text.lower())\n",
    "            \n",
    "    tokens_good.append(doc_tokens)\n",
    "\n",
    "shops[ shops['good_or_bad'] == 1]['tokens'] = tokens_good"
   ]
  },
  {
   "cell_type": "code",
   "execution_count": 31,
   "metadata": {},
   "outputs": [
    {
     "name": "stderr",
     "output_type": "stream",
     "text": [
      "C:\\Users\\Karl\\.conda\\envs\\u4-s1-nlp\\lib\\site-packages\\ipykernel_launcher.py:13: SettingWithCopyWarning: \n",
      "A value is trying to be set on a copy of a slice from a DataFrame.\n",
      "Try using .loc[row_indexer,col_indexer] = value instead\n",
      "\n",
      "See the caveats in the documentation: https://pandas.pydata.org/pandas-docs/stable/user_guide/indexing.html#returning-a-view-versus-a-copy\n",
      "  del sys.path[0]\n"
     ]
    }
   ],
   "source": [
    "tokens_bad = []\n",
    "\n",
    "for doc in tokenizer.pipe(shops[ shops['good_or_bad'] == 0]['full_review_text'], batch_size=500):\n",
    "    \n",
    "    doc_tokens = []\n",
    "    \n",
    "    for token in doc:\n",
    "        if (token.is_stop == False) & (token.is_punct == False):\n",
    "            doc_tokens.append(token.text.lower())\n",
    "            \n",
    "    tokens_bad.append(doc_tokens)\n",
    "\n",
    "shops[ shops['good_or_bad'] == 0]['tokens'] = tokens_bad"
   ]
  },
  {
   "cell_type": "code",
   "execution_count": 32,
   "metadata": {},
   "outputs": [
    {
     "data": {
      "image/png": "[encoded data removed]",
      "text/plain": [
       "<Figure size 432x288 with 1 Axes>"
      ]
     },
     "metadata": {
      "needs_background": "light"
     },
     "output_type": "display_data"
    }
   ],
   "source": [
    "wc = count(shops[ shops['good_or_bad'] == 1]['tokens'])\n",
    "\n",
    "wc_top20 = wc[ wc['rank'] <= 20]\n",
    "\n",
    "squarify.plot(sizes=wc_top20['pct_total'], label=wc_top20['word'], alpha=.8)\n",
    "plt.axis('off')\n",
    "plt.show;"
   ]
  },
  {
   "cell_type": "markdown",
   "metadata": {
    "colab_type": "text",
    "id": "1dCb1q8XphcP",
    "toc-hr-collapsed": true,
    "toc-nb-collapsed": true
   },
   "source": [
    "## Stretch Goals\n",
    "\n",
    "* Analyze another corpus of documents - such as Indeed.com job listings ;).\n",
    "* Play with the Spacy API to\n",
    " - Extract Named Entities\n",
    " - Extracting 'noun chunks'\n",
    " - Attempt Document Classification with just Spacy\n",
    " - *Note:* This [course](https://course.spacy.io/) will be of interesting in helping you with these stretch goals. \n",
    "* Try to build a plotly dash app with your text data \n",
    "\n"
   ]
  }
 ],
 "metadata": {
  "colab": {
   "collapsed_sections": [],
   "name": "LS_DS_421_Text_Data_Assignment.ipynb",
   "provenance": [],
   "version": "0.3.2"
  },
  "kernelspec": {
   "display_name": "u4-s1-nlp (Python3)",
   "language": "python",
   "name": "u4-s1-nlp"
  },
  "language_info": {
   "codemirror_mode": {
    "name": "ipython",
    "version": 3
   },
   "file_extension": ".py",
   "mimetype": "text/x-python",
   "name": "python",
   "nbconvert_exporter": "python",
   "pygments_lexer": "ipython3",
   "version": "3.7.0"
  },
  "toc-autonumbering": false
 },
 "nbformat": 4,
 "nbformat_minor": 4
}
